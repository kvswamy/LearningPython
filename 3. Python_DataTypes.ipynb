{
 "cells": [
  {
   "cell_type": "markdown",
   "metadata": {},
   "source": [
    "### Data Types"
   ]
  },
  {
   "cell_type": "markdown",
   "metadata": {},
   "source": [
    "Type of data stored in the variables or the information that we provide to the computer basis on which the behaviour of the data will be assigned i.e. how the calculations will be performed and memory will be allocated."
   ]
  },
  {
   "cell_type": "markdown",
   "metadata": {},
   "source": [
    "### Data Types in Python\n",
    " \n",
    "1. __Numbers__\n",
    "  * Int - Stores whole numbers i.e. no decimal numbers\n",
    "  * Float - Stores decimal numbers\n",
    "  * Long Integers - Stores long integers\n",
    "  * Complex - Stores complex numbers i.e. contains both real and imaginary parts; A+Bi\n",
    "2. Boolean\n",
    "3. __String__: Strings start and end with single or double quotes or triple quotes when working with paragraphs\n",
    "4. List\n",
    "5. Tuples\n",
    "6. Dictionary\n",
    "7. Set"
   ]
  },
  {
   "cell_type": "markdown",
   "metadata": {},
   "source": [
    "### Data Types Examples"
   ]
  },
  {
   "cell_type": "markdown",
   "metadata": {},
   "source": [
    "In the previous tutorial we saw how to assign a value to a variable, now lets use the same knowledge and have an overview of each data type mentioned above, we'll do an in depth look into each of them as we move forward"
   ]
  },
  {
   "cell_type": "code",
   "execution_count": 1,
   "metadata": {},
   "outputs": [],
   "source": [
    "IntDataType = 10"
   ]
  },
  {
   "cell_type": "code",
   "execution_count": 2,
   "metadata": {},
   "outputs": [
    {
     "data": {
      "text/plain": [
       "int"
      ]
     },
     "execution_count": 2,
     "metadata": {},
     "output_type": "execute_result"
    }
   ],
   "source": [
    "type(IntDataType)"
   ]
  },
  {
   "cell_type": "code",
   "execution_count": 3,
   "metadata": {},
   "outputs": [],
   "source": [
    "FloatDataType = 99.99"
   ]
  },
  {
   "cell_type": "code",
   "execution_count": 4,
   "metadata": {},
   "outputs": [
    {
     "data": {
      "text/plain": [
       "float"
      ]
     },
     "execution_count": 4,
     "metadata": {},
     "output_type": "execute_result"
    }
   ],
   "source": [
    "type(FloatDataType)"
   ]
  },
  {
   "cell_type": "code",
   "execution_count": 5,
   "metadata": {},
   "outputs": [],
   "source": [
    "BooleanDataType = False"
   ]
  },
  {
   "cell_type": "code",
   "execution_count": 6,
   "metadata": {},
   "outputs": [
    {
     "data": {
      "text/plain": [
       "bool"
      ]
     },
     "execution_count": 6,
     "metadata": {},
     "output_type": "execute_result"
    }
   ],
   "source": [
    "type(BooleanDataType)"
   ]
  },
  {
   "cell_type": "code",
   "execution_count": 7,
   "metadata": {},
   "outputs": [],
   "source": [
    "StringDataType = 'StringDataType'"
   ]
  },
  {
   "cell_type": "code",
   "execution_count": 8,
   "metadata": {},
   "outputs": [
    {
     "data": {
      "text/plain": [
       "str"
      ]
     },
     "execution_count": 8,
     "metadata": {},
     "output_type": "execute_result"
    }
   ],
   "source": [
    "type(StringDataType)"
   ]
  },
  {
   "cell_type": "code",
   "execution_count": 1,
   "metadata": {},
   "outputs": [],
   "source": [
    "ListDataType = ['Numbers', 'String', 'Boolean' ,'List', 'Tuples', 'abc', 'Sets']"
   ]
  },
  {
   "cell_type": "code",
   "execution_count": 2,
   "metadata": {},
   "outputs": [
    {
     "name": "stdout",
     "output_type": "stream",
     "text": [
      "['Numbers', 'String', 'Boolean', 'List', 'Tuples', 'abc', 'Sets']\n"
     ]
    }
   ],
   "source": [
    "print(ListDataType)"
   ]
  },
  {
   "cell_type": "code",
   "execution_count": 8,
   "metadata": {},
   "outputs": [],
   "source": [
    "TuplesDataType = ('Numbers', 'String', 'Boolean' ,'List', 'Tuples', 'Dictionary', 'Sets')"
   ]
  },
  {
   "cell_type": "code",
   "execution_count": 9,
   "metadata": {},
   "outputs": [
    {
     "name": "stdout",
     "output_type": "stream",
     "text": [
      "('Numbers', 'String', 'Boolean', 'List', 'Tuples', 'Dictionary', 'Sets')\n"
     ]
    }
   ],
   "source": [
    "print(TuplesDataType)"
   ]
  },
  {
   "cell_type": "code",
   "execution_count": 10,
   "metadata": {},
   "outputs": [],
   "source": [
    "DictionaryDataType = {'Numbers', 'String', 'Boolean' ,'List', 'Tuples', 'Dictionary', 'Sets'}"
   ]
  },
  {
   "cell_type": "code",
   "execution_count": 11,
   "metadata": {},
   "outputs": [
    {
     "name": "stdout",
     "output_type": "stream",
     "text": [
      "{'Sets', 'Boolean', 'Tuples', 'Dictionary', 'Numbers', 'String', 'List'}\n"
     ]
    }
   ],
   "source": [
    "print(DictionaryDataType)"
   ]
  },
  {
   "cell_type": "code",
   "execution_count": 12,
   "metadata": {},
   "outputs": [],
   "source": [
    "SetDataType = {'Numbers', 'String', 'Boolean' ,'List', 'Tuples', 'Dictionary', 'Sets'}"
   ]
  },
  {
   "cell_type": "code",
   "execution_count": 13,
   "metadata": {},
   "outputs": [
    {
     "name": "stdout",
     "output_type": "stream",
     "text": [
      "{'Sets', 'Boolean', 'Tuples', 'Dictionary', 'Numbers', 'String', 'List'}\n"
     ]
    }
   ],
   "source": [
    "print(SetDataType)"
   ]
  },
  {
   "cell_type": "markdown",
   "metadata": {},
   "source": [
    "_Please dont bother yourself to understand whats happened above, just know the existence of these and we'll understand each and every type in detail in further tutorials._"
   ]
  }
 ],
 "metadata": {
  "kernelspec": {
   "display_name": "Python 3",
   "language": "python",
   "name": "python3"
  },
  "language_info": {
   "codemirror_mode": {
    "name": "ipython",
    "version": 3
   },
   "file_extension": ".py",
   "mimetype": "text/x-python",
   "name": "python",
   "nbconvert_exporter": "python",
   "pygments_lexer": "ipython3",
   "version": "3.7.1"
  }
 },
 "nbformat": 4,
 "nbformat_minor": 2
}
