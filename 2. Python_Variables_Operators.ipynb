{
 "cells": [
  {
   "cell_type": "markdown",
   "metadata": {},
   "source": [
    "## Hello World\n",
    "<br>This by default is always the first program that we write when we learn a new language.\n",
    "<br>Out here we'll twist our approach a little and understand the basics first."
   ]
  },
  {
   "cell_type": "markdown",
   "metadata": {},
   "source": [
    "__------------------------------------------------------------------------------------------------------------------__"
   ]
  },
  {
   "cell_type": "markdown",
   "metadata": {},
   "source": [
    "# What are Variables?"
   ]
  },
  {
   "cell_type": "markdown",
   "metadata": {},
   "source": [
    "__Variables are storage containers used to denote something or a value__\n",
    "<br>__They need to be created before they are referred__\n",
    "<br>__In Python we dont need to declare the variable explicitly__\n",
    "<br>__Storage will be allocated by the interpreter automatically__"
   ]
  },
  {
   "cell_type": "markdown",
   "metadata": {},
   "source": [
    "if we are to write to solve a query in mathetics we use the most commom operator: plus, minus, addition, division and so on. So lets take an example where we have to calculate the profit we earned on item which we purchased for 50 rupee and sold it for 70.\n",
    "<br>\n",
    "<br>Simple calculation, 70 - 50 which is 20\n",
    "<br>We have been asked asked by someone to send them the calculation, if we just use the numbers 50, 70 and 20 it wont make any sense as the person on the other hand doesnt know what these numbers are associated with.\n",
    "<br>In order to simplify we give them a meaningful name.\n",
    "<br>_Cost of the product = 50\n",
    "<br>Selling price of the product = 70\n",
    "<br>Profit = Selling price of the product - Cost of the product\n",
    "<br>Profit = 20_\n",
    "<br>Another day, another product sold, again we have to send the calculation, to make our life easier we just remove the numbers after the equal sign, change it with updated value and send it.\n",
    "<br>In our little example the significance of the naming is called as variable, which can store a specific value and can be used multiple times in our code"
   ]
  },
  {
   "cell_type": "markdown",
   "metadata": {},
   "source": [
    "### Variables naming rules"
   ]
  },
  {
   "cell_type": "markdown",
   "metadata": {},
   "source": [
    "Other than __not__ using reserved words in Python there arnt any \"rules\" as such, however for ours and someone else's understanding always use variable name which defines it correctly, so if we are to store someone's age, naming the variable as abc or x or y or hello wont make any sense and it will be difficult to understand if we or someone else had to read our code.\n",
    "<br>Having said that there are some \"good\" industry practises which followed will make your code look more _fancy_ and readable.\n",
    "1. variable names are Case sensitive\n",
    "2. Should always begin with letters or underscores\n",
    "3. Try and name with camel case i.e. first letter of each word to be capital and __no spaces__ in between eg. PythonIsEasy"
   ]
  },
  {
   "cell_type": "markdown",
   "metadata": {},
   "source": [
    "### Assigning values to Variables"
   ]
  },
  {
   "cell_type": "code",
   "execution_count": null,
   "metadata": {},
   "outputs": [],
   "source": [
    "Employee_Name = 'Nikola Tesla'\n",
    "Total_Experience = 10\n",
    "Date_of_Joining = '10/10/2010'"
   ]
  },
  {
   "cell_type": "markdown",
   "metadata": {},
   "source": [
    "_use '=' operator to assign a value to a variable_\n",
    "<br> though there are "
   ]
  },
  {
   "cell_type": "code",
   "execution_count": null,
   "metadata": {},
   "outputs": [],
   "source": [
    "print(Employee_Name)\n",
    "print(Total_Experience)\n",
    "print(Date_of_Joining)"
   ]
  },
  {
   "cell_type": "code",
   "execution_count": null,
   "metadata": {},
   "outputs": [],
   "source": [
    "print(Total_Experience +10)"
   ]
  },
  {
   "cell_type": "markdown",
   "metadata": {},
   "source": [
    " ### Multiple assigment to variables\n",
    " <br> You can assign a single value to several variables together or,\n",
    " <br> multiple objects to multiple variables"
   ]
  },
  {
   "cell_type": "code",
   "execution_count": null,
   "metadata": {},
   "outputs": [],
   "source": [
    "variable1 = variable2 = variable3 = 100"
   ]
  },
  {
   "cell_type": "code",
   "execution_count": null,
   "metadata": {},
   "outputs": [],
   "source": [
    "print(variable1)\n",
    "print(variable2)\n",
    "print(variable3)"
   ]
  },
  {
   "cell_type": "code",
   "execution_count": null,
   "metadata": {},
   "outputs": [],
   "source": [
    "VarInt, Varfloat, VarString = 1, 0.5, 'String'"
   ]
  },
  {
   "cell_type": "code",
   "execution_count": null,
   "metadata": {},
   "outputs": [],
   "source": [
    "print(VarInt)\n",
    "print(Varfloat)\n",
    "print(VarString)"
   ]
  },
  {
   "cell_type": "markdown",
   "metadata": {},
   "source": [
    " # Operators in Python"
   ]
  },
  {
   "cell_type": "markdown",
   "metadata": {},
   "source": [
    "Operators are like instructions performed on operands i.e. 100-50 where 100 and 50 operands and - is the instruction to be performed on these"
   ]
  },
  {
   "cell_type": "markdown",
   "metadata": {},
   "source": [
    "## List of operators supported in Python\n",
    "\n",
    "* Arithmetic\n",
    "* Comparison/Relational\n",
    "* Assignment\n",
    "* Logical\n",
    "* Bitwise\n",
    "* Membership\n",
    "* Identity"
   ]
  },
  {
   "cell_type": "markdown",
   "metadata": {},
   "source": [
    "### Arithmatic Operators"
   ]
  },
  {
   "cell_type": "markdown",
   "metadata": {},
   "source": [
    "| Operator | Action |\n",
    "|----|---|\n",
    "| +  | Addition |\n",
    "| -  | Subtraction |\n",
    "| /  | division |\n",
    "| %  | mod |\n",
    "| *  | multiplication |\n",
    "| //  | floor division |\n",
    "| **  | to the power of |"
   ]
  },
  {
   "cell_type": "code",
   "execution_count": null,
   "metadata": {},
   "outputs": [],
   "source": [
    "operand1 = 1\n",
    "operand2 = 2\n",
    "\n",
    "print('operand1+operand2 = ',operand1+operand2)\n",
    "\n",
    "print('operand1-operand2 = ',operand1-operand2)\n",
    "\n",
    "print('operand1/operand2 = ',operand1/operand2)\n",
    "\n",
    "print('operand1%operand2 = ',operand1%operand2)\n",
    "\n",
    "print('operand1*operand2 = ',operand1*operand2)\n",
    "\n",
    "print('operand1//operand2 = ',operand1//operand2)\n",
    "\n",
    "print('operand1**operand2 = ',operand1**operand2)"
   ]
  },
  {
   "cell_type": "markdown",
   "metadata": {},
   "source": [
    "### Relational/Comparison Operators"
   ]
  },
  {
   "cell_type": "markdown",
   "metadata": {},
   "source": [
    "| Operator | Action |\n",
    "|----|---|\n",
    "| == | True, if it is equal |\n",
    "| !=  | True, if not equal to |\n",
    "| < | less than |\n",
    "| > | greater than |\n",
    "| <=  | less than or equal to |\n",
    "| >=  | greater than or equal to |"
   ]
  },
  {
   "cell_type": "code",
   "execution_count": null,
   "metadata": {},
   "outputs": [],
   "source": [
    "operand1 = 1\n",
    "operand2 = 2\n",
    "\n",
    "print('operand1==operand2 = ',operand1==operand2)\n",
    "\n",
    "print('operand1!=operand2 = ',operand1!=operand2)\n",
    "\n",
    "print('operand1<operand2 = ',operand1<operand2)\n",
    "\n",
    "print('operand1>operand2 = ',operand1>operand2)\n",
    "\n",
    "print('operand1<=operand2 = ',operand1<=operand2)\n",
    "\n",
    "print('operand1>=operand2 = ',operand1>=operand2)"
   ]
  },
  {
   "cell_type": "markdown",
   "metadata": {},
   "source": [
    "### Assignment Operators"
   ]
  },
  {
   "cell_type": "markdown",
   "metadata": {},
   "source": [
    "|\tOperator\t|\tAction\t|\n",
    "|\t----\t|\t---\t|\n",
    "|\t=\t|\tassign value\t|\n",
    "|\t+=\t|\tadd number to the variable and set the variable to the result\t|\n",
    "|\t-=\t|\tsubtract number to the variable and set the variable to the result\t|\n",
    "|\t*=\t|\tmultiplies number to the variable and set the variable to the result\t|\n",
    "|\t/=\t|\tdivides number to the variable and set the variable to the result\t|\n",
    "|\t%=\t|\tperform modulus to the variable and set the variable to the result\t|\n",
    "|\t//=\t|\tperform floor division to the variable and set the variable to the result\t|\n",
    "|\t**=\t|\tperform exponential calculation to the variable and set the variable to the result\t|"
   ]
  },
  {
   "cell_type": "markdown",
   "metadata": {},
   "source": [
    "### Logical Operators"
   ]
  },
  {
   "cell_type": "markdown",
   "metadata": {},
   "source": [
    "|\tOperator\t|\tAction\t|\n",
    "|\t----\t|\t---\t|\n",
    "|\tand\t|\tTrue if both the operands are true\t|\n",
    "|\tor\t|\tTrue if either of the operands is true\t|\n",
    "|\tnot\t|\tTrue if operand is false (complements the operand)\t|"
   ]
  },
  {
   "cell_type": "code",
   "execution_count": null,
   "metadata": {},
   "outputs": [],
   "source": [
    "operand1 = True\n",
    "operand2 = False\n",
    "\n",
    "print('operand1 and operand2:',operand1 and operand2)\n",
    "\n",
    "print('operand1 or operand2:',operand1 or operand2)\n",
    "\n",
    "print('not operand2 is',not operand2)"
   ]
  },
  {
   "cell_type": "markdown",
   "metadata": {},
   "source": [
    "### Bitwise Operators\n",
    "#### Bitwise operations are performed on the binary value of the operand"
   ]
  },
  {
   "cell_type": "markdown",
   "metadata": {},
   "source": [
    "|\tOperator\t|\tAction\t|\n",
    "|\t----\t|\t---\t|\n",
    "|\t &  \t|\tBinary And\t|\n",
    "|\t|\t|\tBinary OR\t|\n",
    "|\t ^  \t|\tBitwise Bitwise XOR\t|\n",
    "|\t ~  \t|\tBitwise Bitwise Negate\t|\n",
    "|\t >>  \t|\tBitwise Bitwise Right shift\t|\n",
    "|\t <<  \t|\tBitwise Bitwise Left shift\t|"
   ]
  },
  {
   "cell_type": "code",
   "execution_count": null,
   "metadata": {},
   "outputs": [],
   "source": []
  },
  {
   "cell_type": "markdown",
   "metadata": {},
   "source": [
    "### Membership Operators"
   ]
  },
  {
   "cell_type": "markdown",
   "metadata": {},
   "source": [
    "|\tOperator\t|\tAction\t|\n",
    "|\t----\t|\t---\t|\n",
    "|\tin\t|\tEvaluates to true if it finds a variable in the specified sequence and false otherwise.\t|\n",
    "|\tnot in\t|\tEvaluates to true if it does not finds a variable in the specified sequence and false otherwise.\t|"
   ]
  },
  {
   "cell_type": "code",
   "execution_count": null,
   "metadata": {},
   "outputs": [],
   "source": [
    "operand1 = 1\n",
    "operand2 = 2\n",
    "\n",
    "check_list = [1,2,34,99,100]\n",
    "\n",
    "if (operand1 in check_list):\n",
    "    print('True')\n",
    "else:\n",
    "    print('False')\n",
    "    \n",
    "if (operand2 not in check_list):\n",
    "    print('True')\n",
    "else:\n",
    "    print('False')\n"
   ]
  },
  {
   "cell_type": "markdown",
   "metadata": {},
   "source": [
    "### Identity Operators"
   ]
  },
  {
   "cell_type": "markdown",
   "metadata": {},
   "source": [
    "|\tOperator\t|\tAction\t|\n",
    "|\t----\t|\t---\t|\n",
    "|\tis\t|\tTrue if the operands are identical\t|\n",
    "|\tis not\t|\tTrue if the operands are not identical\t|"
   ]
  },
  {
   "cell_type": "code",
   "execution_count": null,
   "metadata": {},
   "outputs": [],
   "source": [
    "x1 = 5\n",
    "y1 = 5\n",
    "x2 = 'Hello'\n",
    "y2 = 'Hello'\n",
    "x3 = [1,2,3]\n",
    "y3 = [1,2,3]\n",
    "\n",
    "# Output: False\n",
    "print(x1 is not y1)\n",
    "\n",
    "# Output: True\n",
    "print(x2 is y2)\n",
    "\n",
    "# Output: False\n",
    "print(x3 is y3)"
   ]
  },
  {
   "cell_type": "markdown",
   "metadata": {},
   "source": [
    "## Python Input Function"
   ]
  },
  {
   "cell_type": "markdown",
   "metadata": {},
   "source": [
    "Used for taking user input, useful for creating interactive programs"
   ]
  },
  {
   "cell_type": "code",
   "execution_count": null,
   "metadata": {},
   "outputs": [],
   "source": [
    "UserName = input(\"What's your name? \")\n",
    "print(\"Nice to meet you \" + UserName + \"!\")\n",
    "UserAge = input(\"Your age? \")\n",
    "print(\"So, you are already \" + str(UserAge) + \" years old, \" + UserName + \"!\")"
   ]
  },
  {
   "cell_type": "code",
   "execution_count": 5,
   "metadata": {},
   "outputs": [
    {
     "name": "stdout",
     "output_type": "stream",
     "text": [
      "What's your name? a\n",
      "Nice to meet you a!\n",
      "Your age? 1\n",
      "<class 'str'> <class 'str'>\n"
     ]
    }
   ],
   "source": [
    "UserName = input(\"What's your name? \")\n",
    "print(\"Nice to meet you \" + UserName + \"!\")\n",
    "\n",
    "UserAge = input(\"Your age? \")\n",
    "print(type(UserAge), type(UserName))"
   ]
  },
  {
   "cell_type": "markdown",
   "metadata": {},
   "source": [
    "_If you liked my tutorial, you can always buy me a coffee on [Ko-Fi](https://ko-fi.com/ankitgandhi)_"
   ]
  },
  {
   "cell_type": "code",
   "execution_count": null,
   "metadata": {},
   "outputs": [],
   "source": []
  }
 ],
 "metadata": {
  "kernelspec": {
   "display_name": "Python 3",
   "language": "python",
   "name": "python3"
  },
  "language_info": {
   "codemirror_mode": {
    "name": "ipython",
    "version": 3
   },
   "file_extension": ".py",
   "mimetype": "text/x-python",
   "name": "python",
   "nbconvert_exporter": "python",
   "pygments_lexer": "ipython3",
   "version": "3.7.1"
  }
 },
 "nbformat": 4,
 "nbformat_minor": 2
}
