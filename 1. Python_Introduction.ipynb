{
 "cells": [
  {
   "cell_type": "markdown",
   "metadata": {},
   "source": [
    "# <center>There exists no perfect tutorial</center>"
   ]
  },
  {
   "cell_type": "markdown",
   "metadata": {},
   "source": [
    "![404](https://pbs.twimg.com/media/DKrpBH6WkAAl4sx.jpg)"
   ]
  },
  {
   "cell_type": "markdown",
   "metadata": {},
   "source": [
    "No, not a Data Scientiest tutorial, but yes, you will get a hang of it and you'll be able to utilise the learnings and if all goes well who knows you might become a __Data Scientist__ some day, so best of luck for your journey!"
   ]
  },
  {
   "cell_type": "markdown",
   "metadata": {},
   "source": [
    "You are not required to memorise the syntax or mug up the code: Instead focus on understanding how a particular function works or how can i use one method in multiple places. You'll eventually remember the syntax with practise(lot of practise), reading documentation(which is very important).\n",
    "<br>Not to forget __google the right question__"
   ]
  },
  {
   "cell_type": "markdown",
   "metadata": {},
   "source": [
    "# <center>Let the learnings begin!</center>"
   ]
  },
  {
   "cell_type": "markdown",
   "metadata": {},
   "source": [
    "<H1> What is Python?</H1>\n",
    "\n",
    "<P>Python is an interpreted, object-oriented, high-level programming\n",
    "language with dynamic semantics.  Its high-level built in data\n",
    "structures, combined with dynamic typing and dynamic binding, make it\n",
    "very attractive for Rapid Application Development, as well as for use\n",
    "as a scripting or glue language to connect existing components\n",
    "together.  Python's simple, easy to learn syntax emphasizes\n",
    "readability and therefore reduces the cost of program maintenance.\n",
    "Python supports modules and packages, which encourages program\n",
    "modularity and code reuse.  The Python interpreter and the extensive\n",
    "standard library are available in source or binary form without charge\n",
    "for all major platforms, and can be freely distributed.\n",
    "\n",
    "<P>Often, programmers fall in love with Python because of the\n",
    "increased productivity it provides.  Since there is no compilation\n",
    "step, the edit-test-debug cycle is incredibly fast. Debugging Python\n",
    "programs is easy: a bug or bad input will never cause a segmentation\n",
    "fault.  Instead, when the interpreter discovers an error, it raises an\n",
    "exception.  When the program doesn't catch the exception, the\n",
    "interpreter prints a stack trace. A source level debugger allows\n",
    "inspection of local and global variables, evaluation of arbitrary\n",
    "expressions, setting breakpoints, stepping through the code a line at\n",
    "a time, and so on. The debugger is written in Python itself,\n",
    "testifying to Python's introspective power. On the other hand, often\n",
    "the quickest way to debug a program is to add a few print statements\n",
    "to the source: the fast edit-test-debug cycle makes this simple\n",
    "approach very effective.\n",
    "<p>Sourced from <a href=\"http://example.com/\" title=\"Title\">\n",
    "Python.org</a> </p>"
   ]
  },
  {
   "cell_type": "markdown",
   "metadata": {},
   "source": [
    "_Putting it down in simple words, its free and an easy to learn programming language which you can literally use in your day to day working to automate stuff, use as an alternate to excel, send/read emails whilst you are talking to someone else, build a website or an application or maybe games, develop chatbots....the list is endless and totally depends on you what you want to create....!_"
   ]
  },
  {
   "cell_type": "markdown",
   "metadata": {},
   "source": [
    "_Please refer to readme for installation instructions_"
   ]
  },
  {
   "cell_type": "markdown",
   "metadata": {},
   "source": [
    "## Hello World\n",
    "<br>This by default is always the first program that we write when we learn a new language.\n",
    "<br>Out here we'll twist our approach a little and understand the basics first."
   ]
  },
  {
   "cell_type": "markdown",
   "metadata": {},
   "source": [
    "_If you liked my tutorial, you can always buy me a coffee on [Ko-Fi](https://ko-fi.com/ankitgandhi)_"
   ]
  },
  {
   "cell_type": "code",
   "execution_count": null,
   "metadata": {},
   "outputs": [],
   "source": []
  }
 ],
 "metadata": {
  "kernelspec": {
   "display_name": "Python 3",
   "language": "python",
   "name": "python3"
  },
  "language_info": {
   "codemirror_mode": {
    "name": "ipython",
    "version": 3
   },
   "file_extension": ".py",
   "mimetype": "text/x-python",
   "name": "python",
   "nbconvert_exporter": "python",
   "pygments_lexer": "ipython3",
   "version": "3.7.1"
  }
 },
 "nbformat": 4,
 "nbformat_minor": 2
}
